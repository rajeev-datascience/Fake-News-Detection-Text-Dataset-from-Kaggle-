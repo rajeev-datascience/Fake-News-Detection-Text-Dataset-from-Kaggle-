{
  "nbformat": 4,
  "nbformat_minor": 0,
  "metadata": {
    "colab": {
      "provenance": []
    },
    "kernelspec": {
      "name": "python3",
      "display_name": "Python 3"
    },
    "language_info": {
      "name": "python"
    }
  },
  "cells": [
    {
      "cell_type": "markdown",
      "source": [
        "Dataset: https://www.kaggle.com/c/fake-news/data#\n",
        "\n",
        "About the dataset:\n",
        "\n",
        "1.   id: unique id for a news article\n",
        "2.   title: the title of a news article\n",
        "3.   author: author of the news article\n",
        "4.   text: the text of the article; could be incomplete\n",
        "\n",
        "1.   label: a label that marks whether the news article is real or fake\n",
        "                \n",
        "               1: Fake News\n",
        "               0: real news\n",
        "\n",
        "\n",
        "\n",
        "\n",
        "\n",
        "\n",
        "\n",
        "\n",
        "\n",
        "\n",
        "\n",
        "\n",
        "\n"
      ],
      "metadata": {
        "id": "isPag2S_7a8O"
      }
    },
    {
      "cell_type": "markdown",
      "source": [
        "Importing the Dependencies"
      ],
      "metadata": {
        "id": "_xOhHFJX9BRO"
      }
    },
    {
      "cell_type": "code",
      "source": [
        "import numpy as np\n",
        "import pandas as pd\n",
        "import re\n",
        "from nltk.corpus import stopwords\n",
        "from nltk.stem.porter import PorterStemmer\n",
        "from sklearn.feature_extraction.text import TfidfVectorizer\n",
        "from sklearn.model_selection import train_test_split\n",
        "from sklearn.linear_model import LogisticRegression\n",
        "from sklearn.metrics import accuracy_score"
      ],
      "metadata": {
        "id": "eqxCJf0C9Em4"
      },
      "execution_count": 1,
      "outputs": []
    },
    {
      "cell_type": "code",
      "source": [
        "import nltk\n",
        "nltk.download('stopwords')"
      ],
      "metadata": {
        "colab": {
          "base_uri": "https://localhost:8080/"
        },
        "id": "P-mvfacj-MVC",
        "outputId": "7b65724e-5fbd-4715-df8b-1edf36839e36"
      },
      "execution_count": 2,
      "outputs": [
        {
          "output_type": "stream",
          "name": "stderr",
          "text": [
            "[nltk_data] Downloading package stopwords to /root/nltk_data...\n",
            "[nltk_data]   Unzipping corpora/stopwords.zip.\n"
          ]
        },
        {
          "output_type": "execute_result",
          "data": {
            "text/plain": [
              "True"
            ]
          },
          "metadata": {},
          "execution_count": 2
        }
      ]
    },
    {
      "cell_type": "code",
      "source": [
        "#printing the stopwords in English\n",
        "print(stopwords.words('english'))\n"
      ],
      "metadata": {
        "colab": {
          "base_uri": "https://localhost:8080/"
        },
        "id": "V255JvgM-d44",
        "outputId": "1f0f76b9-2c0e-4714-e183-a1f1d2c9a015"
      },
      "execution_count": 3,
      "outputs": [
        {
          "output_type": "stream",
          "name": "stdout",
          "text": [
            "['i', 'me', 'my', 'myself', 'we', 'our', 'ours', 'ourselves', 'you', \"you're\", \"you've\", \"you'll\", \"you'd\", 'your', 'yours', 'yourself', 'yourselves', 'he', 'him', 'his', 'himself', 'she', \"she's\", 'her', 'hers', 'herself', 'it', \"it's\", 'its', 'itself', 'they', 'them', 'their', 'theirs', 'themselves', 'what', 'which', 'who', 'whom', 'this', 'that', \"that'll\", 'these', 'those', 'am', 'is', 'are', 'was', 'were', 'be', 'been', 'being', 'have', 'has', 'had', 'having', 'do', 'does', 'did', 'doing', 'a', 'an', 'the', 'and', 'but', 'if', 'or', 'because', 'as', 'until', 'while', 'of', 'at', 'by', 'for', 'with', 'about', 'against', 'between', 'into', 'through', 'during', 'before', 'after', 'above', 'below', 'to', 'from', 'up', 'down', 'in', 'out', 'on', 'off', 'over', 'under', 'again', 'further', 'then', 'once', 'here', 'there', 'when', 'where', 'why', 'how', 'all', 'any', 'both', 'each', 'few', 'more', 'most', 'other', 'some', 'such', 'no', 'nor', 'not', 'only', 'own', 'same', 'so', 'than', 'too', 'very', 's', 't', 'can', 'will', 'just', 'don', \"don't\", 'should', \"should've\", 'now', 'd', 'll', 'm', 'o', 're', 've', 'y', 'ain', 'aren', \"aren't\", 'couldn', \"couldn't\", 'didn', \"didn't\", 'doesn', \"doesn't\", 'hadn', \"hadn't\", 'hasn', \"hasn't\", 'haven', \"haven't\", 'isn', \"isn't\", 'ma', 'mightn', \"mightn't\", 'mustn', \"mustn't\", 'needn', \"needn't\", 'shan', \"shan't\", 'shouldn', \"shouldn't\", 'wasn', \"wasn't\", 'weren', \"weren't\", 'won', \"won't\", 'wouldn', \"wouldn't\"]\n"
          ]
        }
      ]
    },
    {
      "cell_type": "markdown",
      "source": [
        "Data Preprocessing"
      ],
      "metadata": {
        "id": "sOd62MhHAk34"
      }
    },
    {
      "cell_type": "code",
      "source": [
        "from google.colab import drive\n",
        "drive.mount('/content/drive')\n"
      ],
      "metadata": {
        "colab": {
          "base_uri": "https://localhost:8080/"
        },
        "id": "9spvqKerApub",
        "outputId": "cdb831c1-ec2a-408c-bc88-b5f10f18223e"
      },
      "execution_count": 5,
      "outputs": [
        {
          "output_type": "stream",
          "name": "stdout",
          "text": [
            "Mounted at /content/drive\n"
          ]
        }
      ]
    },
    {
      "cell_type": "code",
      "source": [
        "news_dataset = pd.read_csv('/content/train.csv', engine='python', on_bad_lines='skip')\n",
        "\n"
      ],
      "metadata": {
        "id": "ItoO80wc-4Hs"
      },
      "execution_count": 13,
      "outputs": []
    },
    {
      "cell_type": "code",
      "source": [
        "news_dataset.shape"
      ],
      "metadata": {
        "colab": {
          "base_uri": "https://localhost:8080/"
        },
        "id": "fVEhhKraIOZ3",
        "outputId": "129bcb33-2242-4d8a-ee0a-38b838beae31"
      },
      "execution_count": 14,
      "outputs": [
        {
          "output_type": "execute_result",
          "data": {
            "text/plain": [
              "(19493, 5)"
            ]
          },
          "metadata": {},
          "execution_count": 14
        }
      ]
    },
    {
      "cell_type": "code",
      "source": [
        "news_dataset.head()"
      ],
      "metadata": {
        "colab": {
          "base_uri": "https://localhost:8080/",
          "height": 206
        },
        "id": "8Z6H7ZLHIehC",
        "outputId": "843e5187-33d1-47ca-b2f1-41aabef02735"
      },
      "execution_count": 15,
      "outputs": [
        {
          "output_type": "execute_result",
          "data": {
            "text/plain": [
              "  id                                              title              author  \\\n",
              "0  0  House Dem Aide: We Didn’t Even See Comey’s Let...       Darrell Lucus   \n",
              "1  1  FLYNN: Hillary Clinton, Big Woman on Campus - ...     Daniel J. Flynn   \n",
              "2  2                  Why the Truth Might Get You Fired  Consortiumnews.com   \n",
              "3  3  15 Civilians Killed In Single US Airstrike Hav...     Jessica Purkiss   \n",
              "4  4  Iranian woman jailed for fictional unpublished...      Howard Portnoy   \n",
              "\n",
              "                                                text  label  \n",
              "0  House Dem Aide: We Didn’t Even See Comey’s Let...    1.0  \n",
              "1  Ever get the feeling your life circles the rou...    0.0  \n",
              "2  Why the Truth Might Get You Fired October 29, ...    1.0  \n",
              "3  Videos 15 Civilians Killed In Single US Airstr...    1.0  \n",
              "4  Print \\nAn Iranian woman has been sentenced to...    1.0  "
            ],
            "text/html": [
              "\n",
              "  <div id=\"df-e4eb2f2b-9bd3-4171-9a8e-19457cea7daa\" class=\"colab-df-container\">\n",
              "    <div>\n",
              "<style scoped>\n",
              "    .dataframe tbody tr th:only-of-type {\n",
              "        vertical-align: middle;\n",
              "    }\n",
              "\n",
              "    .dataframe tbody tr th {\n",
              "        vertical-align: top;\n",
              "    }\n",
              "\n",
              "    .dataframe thead th {\n",
              "        text-align: right;\n",
              "    }\n",
              "</style>\n",
              "<table border=\"1\" class=\"dataframe\">\n",
              "  <thead>\n",
              "    <tr style=\"text-align: right;\">\n",
              "      <th></th>\n",
              "      <th>id</th>\n",
              "      <th>title</th>\n",
              "      <th>author</th>\n",
              "      <th>text</th>\n",
              "      <th>label</th>\n",
              "    </tr>\n",
              "  </thead>\n",
              "  <tbody>\n",
              "    <tr>\n",
              "      <th>0</th>\n",
              "      <td>0</td>\n",
              "      <td>House Dem Aide: We Didn’t Even See Comey’s Let...</td>\n",
              "      <td>Darrell Lucus</td>\n",
              "      <td>House Dem Aide: We Didn’t Even See Comey’s Let...</td>\n",
              "      <td>1.0</td>\n",
              "    </tr>\n",
              "    <tr>\n",
              "      <th>1</th>\n",
              "      <td>1</td>\n",
              "      <td>FLYNN: Hillary Clinton, Big Woman on Campus - ...</td>\n",
              "      <td>Daniel J. Flynn</td>\n",
              "      <td>Ever get the feeling your life circles the rou...</td>\n",
              "      <td>0.0</td>\n",
              "    </tr>\n",
              "    <tr>\n",
              "      <th>2</th>\n",
              "      <td>2</td>\n",
              "      <td>Why the Truth Might Get You Fired</td>\n",
              "      <td>Consortiumnews.com</td>\n",
              "      <td>Why the Truth Might Get You Fired October 29, ...</td>\n",
              "      <td>1.0</td>\n",
              "    </tr>\n",
              "    <tr>\n",
              "      <th>3</th>\n",
              "      <td>3</td>\n",
              "      <td>15 Civilians Killed In Single US Airstrike Hav...</td>\n",
              "      <td>Jessica Purkiss</td>\n",
              "      <td>Videos 15 Civilians Killed In Single US Airstr...</td>\n",
              "      <td>1.0</td>\n",
              "    </tr>\n",
              "    <tr>\n",
              "      <th>4</th>\n",
              "      <td>4</td>\n",
              "      <td>Iranian woman jailed for fictional unpublished...</td>\n",
              "      <td>Howard Portnoy</td>\n",
              "      <td>Print \\nAn Iranian woman has been sentenced to...</td>\n",
              "      <td>1.0</td>\n",
              "    </tr>\n",
              "  </tbody>\n",
              "</table>\n",
              "</div>\n",
              "    <div class=\"colab-df-buttons\">\n",
              "\n",
              "  <div class=\"colab-df-container\">\n",
              "    <button class=\"colab-df-convert\" onclick=\"convertToInteractive('df-e4eb2f2b-9bd3-4171-9a8e-19457cea7daa')\"\n",
              "            title=\"Convert this dataframe to an interactive table.\"\n",
              "            style=\"display:none;\">\n",
              "\n",
              "  <svg xmlns=\"http://www.w3.org/2000/svg\" height=\"24px\" viewBox=\"0 -960 960 960\">\n",
              "    <path d=\"M120-120v-720h720v720H120Zm60-500h600v-160H180v160Zm220 220h160v-160H400v160Zm0 220h160v-160H400v160ZM180-400h160v-160H180v160Zm440 0h160v-160H620v160ZM180-180h160v-160H180v160Zm440 0h160v-160H620v160Z\"/>\n",
              "  </svg>\n",
              "    </button>\n",
              "\n",
              "  <style>\n",
              "    .colab-df-container {\n",
              "      display:flex;\n",
              "      gap: 12px;\n",
              "    }\n",
              "\n",
              "    .colab-df-convert {\n",
              "      background-color: #E8F0FE;\n",
              "      border: none;\n",
              "      border-radius: 50%;\n",
              "      cursor: pointer;\n",
              "      display: none;\n",
              "      fill: #1967D2;\n",
              "      height: 32px;\n",
              "      padding: 0 0 0 0;\n",
              "      width: 32px;\n",
              "    }\n",
              "\n",
              "    .colab-df-convert:hover {\n",
              "      background-color: #E2EBFA;\n",
              "      box-shadow: 0px 1px 2px rgba(60, 64, 67, 0.3), 0px 1px 3px 1px rgba(60, 64, 67, 0.15);\n",
              "      fill: #174EA6;\n",
              "    }\n",
              "\n",
              "    .colab-df-buttons div {\n",
              "      margin-bottom: 4px;\n",
              "    }\n",
              "\n",
              "    [theme=dark] .colab-df-convert {\n",
              "      background-color: #3B4455;\n",
              "      fill: #D2E3FC;\n",
              "    }\n",
              "\n",
              "    [theme=dark] .colab-df-convert:hover {\n",
              "      background-color: #434B5C;\n",
              "      box-shadow: 0px 1px 3px 1px rgba(0, 0, 0, 0.15);\n",
              "      filter: drop-shadow(0px 1px 2px rgba(0, 0, 0, 0.3));\n",
              "      fill: #FFFFFF;\n",
              "    }\n",
              "  </style>\n",
              "\n",
              "    <script>\n",
              "      const buttonEl =\n",
              "        document.querySelector('#df-e4eb2f2b-9bd3-4171-9a8e-19457cea7daa button.colab-df-convert');\n",
              "      buttonEl.style.display =\n",
              "        google.colab.kernel.accessAllowed ? 'block' : 'none';\n",
              "\n",
              "      async function convertToInteractive(key) {\n",
              "        const element = document.querySelector('#df-e4eb2f2b-9bd3-4171-9a8e-19457cea7daa');\n",
              "        const dataTable =\n",
              "          await google.colab.kernel.invokeFunction('convertToInteractive',\n",
              "                                                    [key], {});\n",
              "        if (!dataTable) return;\n",
              "\n",
              "        const docLinkHtml = 'Like what you see? Visit the ' +\n",
              "          '<a target=\"_blank\" href=https://colab.research.google.com/notebooks/data_table.ipynb>data table notebook</a>'\n",
              "          + ' to learn more about interactive tables.';\n",
              "        element.innerHTML = '';\n",
              "        dataTable['output_type'] = 'display_data';\n",
              "        await google.colab.output.renderOutput(dataTable, element);\n",
              "        const docLink = document.createElement('div');\n",
              "        docLink.innerHTML = docLinkHtml;\n",
              "        element.appendChild(docLink);\n",
              "      }\n",
              "    </script>\n",
              "  </div>\n",
              "\n",
              "\n",
              "<div id=\"df-b9c8cac4-fb16-442b-bbdf-8e2199acd471\">\n",
              "  <button class=\"colab-df-quickchart\" onclick=\"quickchart('df-b9c8cac4-fb16-442b-bbdf-8e2199acd471')\"\n",
              "            title=\"Suggest charts\"\n",
              "            style=\"display:none;\">\n",
              "\n",
              "<svg xmlns=\"http://www.w3.org/2000/svg\" height=\"24px\"viewBox=\"0 0 24 24\"\n",
              "     width=\"24px\">\n",
              "    <g>\n",
              "        <path d=\"M19 3H5c-1.1 0-2 .9-2 2v14c0 1.1.9 2 2 2h14c1.1 0 2-.9 2-2V5c0-1.1-.9-2-2-2zM9 17H7v-7h2v7zm4 0h-2V7h2v10zm4 0h-2v-4h2v4z\"/>\n",
              "    </g>\n",
              "</svg>\n",
              "  </button>\n",
              "\n",
              "<style>\n",
              "  .colab-df-quickchart {\n",
              "      --bg-color: #E8F0FE;\n",
              "      --fill-color: #1967D2;\n",
              "      --hover-bg-color: #E2EBFA;\n",
              "      --hover-fill-color: #174EA6;\n",
              "      --disabled-fill-color: #AAA;\n",
              "      --disabled-bg-color: #DDD;\n",
              "  }\n",
              "\n",
              "  [theme=dark] .colab-df-quickchart {\n",
              "      --bg-color: #3B4455;\n",
              "      --fill-color: #D2E3FC;\n",
              "      --hover-bg-color: #434B5C;\n",
              "      --hover-fill-color: #FFFFFF;\n",
              "      --disabled-bg-color: #3B4455;\n",
              "      --disabled-fill-color: #666;\n",
              "  }\n",
              "\n",
              "  .colab-df-quickchart {\n",
              "    background-color: var(--bg-color);\n",
              "    border: none;\n",
              "    border-radius: 50%;\n",
              "    cursor: pointer;\n",
              "    display: none;\n",
              "    fill: var(--fill-color);\n",
              "    height: 32px;\n",
              "    padding: 0;\n",
              "    width: 32px;\n",
              "  }\n",
              "\n",
              "  .colab-df-quickchart:hover {\n",
              "    background-color: var(--hover-bg-color);\n",
              "    box-shadow: 0 1px 2px rgba(60, 64, 67, 0.3), 0 1px 3px 1px rgba(60, 64, 67, 0.15);\n",
              "    fill: var(--button-hover-fill-color);\n",
              "  }\n",
              "\n",
              "  .colab-df-quickchart-complete:disabled,\n",
              "  .colab-df-quickchart-complete:disabled:hover {\n",
              "    background-color: var(--disabled-bg-color);\n",
              "    fill: var(--disabled-fill-color);\n",
              "    box-shadow: none;\n",
              "  }\n",
              "\n",
              "  .colab-df-spinner {\n",
              "    border: 2px solid var(--fill-color);\n",
              "    border-color: transparent;\n",
              "    border-bottom-color: var(--fill-color);\n",
              "    animation:\n",
              "      spin 1s steps(1) infinite;\n",
              "  }\n",
              "\n",
              "  @keyframes spin {\n",
              "    0% {\n",
              "      border-color: transparent;\n",
              "      border-bottom-color: var(--fill-color);\n",
              "      border-left-color: var(--fill-color);\n",
              "    }\n",
              "    20% {\n",
              "      border-color: transparent;\n",
              "      border-left-color: var(--fill-color);\n",
              "      border-top-color: var(--fill-color);\n",
              "    }\n",
              "    30% {\n",
              "      border-color: transparent;\n",
              "      border-left-color: var(--fill-color);\n",
              "      border-top-color: var(--fill-color);\n",
              "      border-right-color: var(--fill-color);\n",
              "    }\n",
              "    40% {\n",
              "      border-color: transparent;\n",
              "      border-right-color: var(--fill-color);\n",
              "      border-top-color: var(--fill-color);\n",
              "    }\n",
              "    60% {\n",
              "      border-color: transparent;\n",
              "      border-right-color: var(--fill-color);\n",
              "    }\n",
              "    80% {\n",
              "      border-color: transparent;\n",
              "      border-right-color: var(--fill-color);\n",
              "      border-bottom-color: var(--fill-color);\n",
              "    }\n",
              "    90% {\n",
              "      border-color: transparent;\n",
              "      border-bottom-color: var(--fill-color);\n",
              "    }\n",
              "  }\n",
              "</style>\n",
              "\n",
              "  <script>\n",
              "    async function quickchart(key) {\n",
              "      const quickchartButtonEl =\n",
              "        document.querySelector('#' + key + ' button');\n",
              "      quickchartButtonEl.disabled = true;  // To prevent multiple clicks.\n",
              "      quickchartButtonEl.classList.add('colab-df-spinner');\n",
              "      try {\n",
              "        const charts = await google.colab.kernel.invokeFunction(\n",
              "            'suggestCharts', [key], {});\n",
              "      } catch (error) {\n",
              "        console.error('Error during call to suggestCharts:', error);\n",
              "      }\n",
              "      quickchartButtonEl.classList.remove('colab-df-spinner');\n",
              "      quickchartButtonEl.classList.add('colab-df-quickchart-complete');\n",
              "    }\n",
              "    (() => {\n",
              "      let quickchartButtonEl =\n",
              "        document.querySelector('#df-b9c8cac4-fb16-442b-bbdf-8e2199acd471 button');\n",
              "      quickchartButtonEl.style.display =\n",
              "        google.colab.kernel.accessAllowed ? 'block' : 'none';\n",
              "    })();\n",
              "  </script>\n",
              "</div>\n",
              "\n",
              "    </div>\n",
              "  </div>\n"
            ],
            "application/vnd.google.colaboratory.intrinsic+json": {
              "type": "dataframe",
              "variable_name": "news_dataset",
              "summary": "{\n  \"name\": \"news_dataset\",\n  \"rows\": 19493,\n  \"fields\": [\n    {\n      \"column\": \"id\",\n      \"properties\": {\n        \"dtype\": \"string\",\n        \"num_unique_values\": 19493,\n        \"samples\": [\n          \"17021\",\n          \"5101\",\n          \"13369\"\n        ],\n        \"semantic_type\": \"\",\n        \"description\": \"\"\n      }\n    },\n    {\n      \"column\": \"title\",\n      \"properties\": {\n        \"dtype\": \"string\",\n        \"num_unique_values\": 18591,\n        \"samples\": [\n          \"Pregnancy Changes the Brain in Ways That May Help Mothering - The New York Times\",\n          \"Californians Legalize Marijuana in Vote That Could Echo Nationally - The New York Times\",\n          \"Hollywood Dentist Kicked Off Flight for Anti-Trump Comment\"\n        ],\n        \"semantic_type\": \"\",\n        \"description\": \"\"\n      }\n    },\n    {\n      \"column\": \"author\",\n      \"properties\": {\n        \"dtype\": \"category\",\n        \"num_unique_values\": 4038,\n        \"samples\": [\n          \"Walter E. Block\",\n          \"Raffie\",\n          \"Allen Salkin\"\n        ],\n        \"semantic_type\": \"\",\n        \"description\": \"\"\n      }\n    },\n    {\n      \"column\": \"text\",\n      \"properties\": {\n        \"dtype\": \"string\",\n        \"num_unique_values\": 19098,\n        \"samples\": [\n          \"Every child deserves an equal opportunity to learn. Yet today millions of children across our nation find themselves trapped in failing schools, barring them from the chance to receive the education they need to climb out of poverty and up the economic ladder. [All parents and students who want educational choice should have it. Yet in Texas alone, 105, 000 kids are waiting to be admitted to charter schools, and throughout the nation, more than a million children await acceptance into charter schools.  While there remains an enormous task before us to give every child access to a quality education, I am encouraged by progress that has been made in my home state of Texas. Since 2000, the number of charter schools in Texas has more than tripled. And currently before the Texas Legislature are significant measures that will continue to expand school choice across our state. The facts are unequivocal  \\u2014   school choice improves students\\u2019 test scores, keeps them in school longer, saves taxpayer dollars, provides a safer learning environment, and increases competition and quality in traditional public schools. School choice is the civil rights issue of the 21st century  \\u2014   it\\u2019s opening doors for children to pursue their talents and ambitions, and it\\u2019s providing some of our poorest students a ticket to a better life and more promising future. Now is the time to open the gateway of opportunity to children across the country. We need to expand charters, vouchers, education savings account programs, and educational options for all children, regardless of their race, ethnicity or zip code. Today, Texans are rallying in Austin to raise awareness for the opportunities the Texas Legislature has this session to make meaningful inroads in further expanding school choice across our state. I stand in support of them and proudly stand with our state leaders, like Gov. Greg Abbott, Lt. Gov. Dan Patrick and many others who are working hard to make the dream of education equality a reality. Together, we can unlock the gates of opportunity, and unleash the potential of every child to become the next success story in our nation\\u2019s long history of exceptionalism.\",\n          \"A single concussion experienced by a child or teenager may have lasting repercussions on mental health and intellectual and physical functioning throughout adulthood, and multiple head injuries increase the risks of later problems, according to one of the largest, most elaborate studies to date of the impacts of head trauma on the young. You cannot be an athlete, parent of an athlete, sports fan or reader of this newspaper and not be aware that concussions appear to be both more common  \\u2014   and more dangerous  \\u2014   than most of us once thought. According to a report released last week by the health insurer Blue Cross Blue Shield, based on data from medical claims nationwide, the incidence of diagnosed concussions among people under the age of 20 climbed 71 percent between 2010 and 2015. The rates rose most steeply among girls, with the incidence soaring by 119 percent during that time, although almost twice as many concussions over all were diagnosed in boys. The report acknowledges that the startling increase may partly reflect a growing awareness of the injury among parents, sports officials and physicians, which has led to more diagnoses. But the sheer numbers also suggest that more young people, particularly young athletes, are experiencing head injuries than in the past. Similar increases have been noted among young people in other nations. But the consequences, if any, for their health during adulthood have largely remained unknown. So for the new study, which was funded primarily by the Wellcome Trust and published in August in PLOS Medicine, scientists from Oxford University, Indiana University, the Karolinska Institute in Stockholm and other universities turned to an extensive trove of data about the health of people in Sweden. A plethora of linked registries in that nation contain information about people\\u2019s medical and hospital visits, socioeconomic status, education, physical disabilities and other aspects of their lives, says Dr. Seena Fazel, a professor of forensic psychiatry at Oxford and the new study\\u2019s senior author. The registries also allow researchers to compile information about family members. In this case, the scientists concentrated on all Swedes born between 1973 and 1985 and looked for those who had experienced a head injury of some kind before the age of 25. More than 104, 000 people qualified. The researchers pulled data about these people for 40 years or until someone had either died or emigrated from Sweden. For each participant, the researchers also compiled comparable medical and other records for a sibling who had never been given a diagnosis of a head injury and compared outcomes both between family members and against the full population of the country. The results were discomfiting. Young people who had experienced a single diagnosed concussion  \\u2014   which the researchers categorized as a mild traumatic brain injury  \\u2014   were much more likely than the nation\\u2019s general population and than their own siblings to be receiving medical disability payments as adults. They also were significantly more likely to have sought mental health care and much less likely to have graduated from high school or to have attended college than their uninjured brother or sister. And they were about twice as likely as an uninjured sibling to die prematurely. The possibility of lingering physical or psychological problems during adulthood rose precipitously, the researchers found, if someone had experienced more than one concussion while young, or if his or her brain injury had been more severe than a concussion. The outcomes also generally were worse if someone had experienced head trauma after the age of 15, probably because the brain is less resilient than in earlier childhood, Dr. Fazel says. (The researchers did not quantify the causes of the injuries in this study, but past research shows that in the very young, he says, brain injuries usually result from falls, with sports becoming the primary cause in teenagers, and auto accidents the main cause among young adults.) There was, thankfully, encouraging news squirreled away within the data. While young people who had been hit in the head displayed heightened risks for physical and psychological difficulties as adults, most, in fact, were fine. \\u201cThe majority of individuals who had diagnoses of brain injury in our study did not experience adverse outcomes,\\u201d Dr. Fazel says. Unfortunately, it is impossible at the moment to identify which children or teenagers who experience head trauma may be most at risk of struggling in later life and which will instead recover without apparent complications, he says. So the message of this study further underscores that, whenever possible, we should take steps to prevent childhood head injuries. While \\u201cthere are lots of benefits from sports,\\u201d Dr. Fazel says, it may be important to consider changes to the rules or equipment in contact sports, like football and soccer, to try to reduce head trauma. If a young person does suffer head trauma, he continues, more and   monitoring is also probably a good idea. Such monitoring may be especially important if the child shows any signs of \\u201ca decline in psychosocial performance,\\u201d he says, such as a drop in grades or a change, even subtle, in personality. A neurologist can provide useful assessments, and regular   neurological assessments may need to be continued, even into adulthood.\",\n          \"Bob Waldrop, founder of the Oscar Romero Catholic Worker House in Oklahoma City, is calling for a boycott of the 2016 national collection in Catholic churches for the Archdiocese of Military Services, accusing the military bishops of material cooperation with the objective evil of unjust war. To facilitate the boycott, he has prepared a half page document that can be printed and placed in the collection plate or offering envelope the weekend of November 5-6, 2016, when the offering is to be collected. A PDF version of the document is available at www.justpeace.org/mscollection.pdf . This has two copies on one page to facilitate distribution.\\nText of the boycott call:\\nI am not giving to the 2016 Archdiocese for Military Services Collection.\\nThe bishops of the Archdiocese for Military Services, together with nearly all of their brother United States Bishops, are guilty of material cooperation with the objective evil of unjust war . In 2003, both Pope John Paul II and then Cardinal Ratzinger , who later became Benedict XVI, condemned our attack on Iraq as an unjust war. In spite of the Pope\\u2019s opposition, the Most Rev. Edwin O\\u2019Brien , then Archbishop for the Military Services advised Catholic members of the US Armed Forces: \\u201cGiven the complexity of factors involved, many of which understandably remain confidential, it is altogether appropriate for members of our armed forces to presume the integrity of our leadership and its judgments and therefore to carry out their military duties in good conscience.\\u201d\\t\\n\\t\\t\\t\\nSubsequent events have sadly proven the truth, wisdom, and prudence of Pope John Paul II\\u2019s judgment, and the fallacy and danger of the moral relativism embraced by the Bishops of the Archdiocese for Military Services and most of the other US Catholic Bishops regarding unjust war. The consequences cascading from our invasion brought death and injury and social dislocation to hundreds of thousands and devastated the historic Christian communities of Iraq and subsequently Syria. It may fairly be said that those who enabled and supported the war on the people of Iraq are \\\"secondary terrorists\\\" in that they created the objective conditions on the ground in the Middle East that are driving the extreme forms of terrorism currently prevalent in the region. Actions have consequences and those who propose the actions must own the consequences.\\nTherefore, because of these issues, I am not giving to the collection for the Archdiocese of Military Services. Instead, I will donate to an organization working to resolve the problems caused by war.\\nIt is a sad and scandalous day when a people\\u2019s religious leaders fail them so egregiously. I promise to pray for the conversion of the Military Services hierarchy and clergy, and for the moral and physical protection of the members of our Armed Services, who are our sisters, brothers, fathers, mothers, and children. They deserve religious leaders who will courageously preach and teach all of the Gospel of Christ, not just that which is acceptable to the United States Government.\\nText prepared by Bob Waldrop, Oscar Romero Catholic Worker House, Oklahoma City. PDF suitable for download and copying is available at www.justpeace.org/mscollection.pdf . Place this document in the collection plate or offering envelope for the Military Services collection the weekend of November 5-6. We invite those responsible for forwarding these offerings to the Military Services Archdiocese to also send any of these documents that parishioners give in lieu of a money donation.\\nBob Waldrop is the founder of the Oscar Romero Catholic Worker House in Oklahoma City, which works in food security and for justice and peace. He has consistently opposed all of the United States military adventures since the 1970s when he met Justin Raimondo and Eric Garris tabling for the Libertarian Party at the San Jose Flea Market. He has been a consistent critic of the poor performance of the United States Catholic Bishops on the issues of war and peace since the embargo on the civilian economy of Iraq. His antiwar paper trail is at http://www.justpeace.org/warresponse.htm. He gardens, reads science fiction, and works as a church musician.\\nBob Waldrop is the founder of the Oscar Romero Catholic Worker House in Oklahoma City, which works in food security and for justice and peace. He has consistently opposed all of the United States military adventures since the 1970s when he met Justin Raimondo and Eric Garris tabling for the Libertarian Party at the San Jose Flea Market. He has been a consistent critic of the poor performance of the United States Catholic Bishops on the issues of war and peace since the embargo on the civilian economy of Iraq. His anti-war paper trail is at http://www.justpeace.org/warresponse.htm . He gardens, reads science fiction, and works as a church musician. \\n\"\n        ],\n        \"semantic_type\": \"\",\n        \"description\": \"\"\n      }\n    },\n    {\n      \"column\": \"label\",\n      \"properties\": {\n        \"dtype\": \"number\",\n        \"std\": 0.5000127827649313,\n        \"min\": 0.0,\n        \"max\": 1.0,\n        \"num_unique_values\": 2,\n        \"samples\": [\n          0.0,\n          1.0\n        ],\n        \"semantic_type\": \"\",\n        \"description\": \"\"\n      }\n    }\n  ]\n}"
            }
          },
          "metadata": {},
          "execution_count": 15
        }
      ]
    },
    {
      "cell_type": "code",
      "source": [
        "# counting the number of missing values in the dataset\n",
        "news_dataset.isnull().sum()"
      ],
      "metadata": {
        "colab": {
          "base_uri": "https://localhost:8080/"
        },
        "id": "sYS8jKtCIogH",
        "outputId": "fc7166bc-de31-4e3e-ca22-39ac1172e79e"
      },
      "execution_count": 17,
      "outputs": [
        {
          "output_type": "execute_result",
          "data": {
            "text/plain": [
              "id           0\n",
              "title      522\n",
              "author    1858\n",
              "text        54\n",
              "label       16\n",
              "dtype: int64"
            ]
          },
          "metadata": {},
          "execution_count": 17
        }
      ]
    },
    {
      "cell_type": "code",
      "source": [
        "# replacing the null values with empty strings\n",
        "news_dataset = news_dataset.fillna('')"
      ],
      "metadata": {
        "id": "t9SSf5aJI5GO"
      },
      "execution_count": 18,
      "outputs": []
    },
    {
      "cell_type": "code",
      "source": [
        "# merging author and title columns\n",
        "news_dataset['content'] = news_dataset['title'] + ' ' + news_dataset['author']"
      ],
      "metadata": {
        "id": "dZ2BsOAXJSLL"
      },
      "execution_count": 26,
      "outputs": []
    },
    {
      "cell_type": "code",
      "source": [
        "news_dataset['content'].head()"
      ],
      "metadata": {
        "colab": {
          "base_uri": "https://localhost:8080/"
        },
        "id": "3l2up8PUJ_Xt",
        "outputId": "fed5c23e-6cf2-4c64-b641-e645d672f579"
      },
      "execution_count": 27,
      "outputs": [
        {
          "output_type": "execute_result",
          "data": {
            "text/plain": [
              "0    House Dem Aide: We Didn’t Even See Comey’s Let...\n",
              "1    FLYNN: Hillary Clinton, Big Woman on Campus - ...\n",
              "2    Why the Truth Might Get You Fired Consortiumne...\n",
              "3    15 Civilians Killed In Single US Airstrike Hav...\n",
              "4    Iranian woman jailed for fictional unpublished...\n",
              "Name: content, dtype: object"
            ]
          },
          "metadata": {},
          "execution_count": 27
        }
      ]
    },
    {
      "cell_type": "code",
      "source": [
        "# seperating data and label\n",
        "X = news_dataset.drop( columns ='label', axis = 1)\n",
        "Y = news_dataset['label']"
      ],
      "metadata": {
        "id": "jVAGjhL-J_US"
      },
      "execution_count": 28,
      "outputs": []
    },
    {
      "cell_type": "code",
      "source": [
        "print(X)"
      ],
      "metadata": {
        "colab": {
          "base_uri": "https://localhost:8080/"
        },
        "id": "yPZYS6cFJ_Q1",
        "outputId": "113b7a90-74d2-449c-a6dd-1ef46009811b"
      },
      "execution_count": 29,
      "outputs": [
        {
          "output_type": "stream",
          "name": "stdout",
          "text": [
            "          id                                              title  \\\n",
            "0          0  House Dem Aide: We Didn’t Even See Comey’s Let...   \n",
            "1          1  FLYNN: Hillary Clinton, Big Woman on Campus - ...   \n",
            "2          2                  Why the Truth Might Get You Fired   \n",
            "3          3  15 Civilians Killed In Single US Airstrike Hav...   \n",
            "4          4  Iranian woman jailed for fictional unpublished...   \n",
            "...      ...                                                ...   \n",
            "19488  19473  Artificial intelligence ‘robot’ says Trump wil...   \n",
            "19489  19474  Comment on Sweden Bans Christmas Street Lights...   \n",
            "19490  19475  Arrests for Cannabis Possession Outnumber Arre...   \n",
            "19491  19476  Clinton Vs. Trump: Latest Electoral Prediction...   \n",
            "19492  19477        Comment on Links 11/6/16 by susan the other   \n",
            "\n",
            "                   author                                               text  \\\n",
            "0           Darrell Lucus  House Dem Aide: We Didn’t Even See Comey’s Let...   \n",
            "1         Daniel J. Flynn  Ever get the feeling your life circles the rou...   \n",
            "2      Consortiumnews.com  Why the Truth Might Get You Fired October 29, ...   \n",
            "3         Jessica Purkiss  Videos 15 Civilians Killed In Single US Airstr...   \n",
            "4          Howard Portnoy  Print \\nAn Iranian woman has been sentenced to...   \n",
            "...                   ...                                                ...   \n",
            "19488               Admin  Other Writers \\nAn Artificial Intelligence (AI...   \n",
            "19489               jaded  Posted on October 26, 2016 by Paul Joseph Wats...   \n",
            "19490  The Mind Unleashed  Arrests for Cannabis Possession Outnumber Arre...   \n",
            "19491   beforeitsnews.com  (Before It's News)\\nIt is fun to look at polls...   \n",
            "19492     susan the other  by Yves Smith \\nDear patient readers, \\nLamber...   \n",
            "\n",
            "                                                 content  \n",
            "0      House Dem Aide: We Didn’t Even See Comey’s Let...  \n",
            "1      FLYNN: Hillary Clinton, Big Woman on Campus - ...  \n",
            "2      Why the Truth Might Get You Fired Consortiumne...  \n",
            "3      15 Civilians Killed In Single US Airstrike Hav...  \n",
            "4      Iranian woman jailed for fictional unpublished...  \n",
            "...                                                  ...  \n",
            "19488  Artificial intelligence ‘robot’ says Trump wil...  \n",
            "19489  Comment on Sweden Bans Christmas Street Lights...  \n",
            "19490  Arrests for Cannabis Possession Outnumber Arre...  \n",
            "19491  Clinton Vs. Trump: Latest Electoral Prediction...  \n",
            "19492  Comment on Links 11/6/16 by susan the other su...  \n",
            "\n",
            "[19493 rows x 5 columns]\n"
          ]
        }
      ]
    },
    {
      "cell_type": "code",
      "source": [
        "print(Y)"
      ],
      "metadata": {
        "colab": {
          "base_uri": "https://localhost:8080/"
        },
        "id": "fKkYumtiK0-4",
        "outputId": "e624957e-f6e8-49e9-b07b-2ea1ecc97033"
      },
      "execution_count": 30,
      "outputs": [
        {
          "output_type": "stream",
          "name": "stdout",
          "text": [
            "0        1.0\n",
            "1        0.0\n",
            "2        1.0\n",
            "3        1.0\n",
            "4        1.0\n",
            "        ... \n",
            "19488    1.0\n",
            "19489    1.0\n",
            "19490    1.0\n",
            "19491    1.0\n",
            "19492    1.0\n",
            "Name: label, Length: 19493, dtype: object\n"
          ]
        }
      ]
    },
    {
      "cell_type": "markdown",
      "source": [
        "Stemming:\n",
        "\n",
        "Stemming is the process of reducing a word to its Root word\n",
        "\n",
        "example: actor, actress, acting --> act"
      ],
      "metadata": {
        "id": "t_g4deh3MDyU"
      }
    },
    {
      "cell_type": "code",
      "source": [
        "port_stem = PorterStemmer()"
      ],
      "metadata": {
        "id": "DzV4tvKaK1W8"
      },
      "execution_count": 31,
      "outputs": []
    },
    {
      "cell_type": "code",
      "source": [
        "def stemming(content):\n",
        "    stemmed_content = re.sub('[^a-zA-Z]',' ',content)\n",
        "    stemmed_content = stemmed_content.lower()\n",
        "    stemmed_content = stemmed_content.split()\n",
        "    stemmed_content = [port_stem.stem(word) for word in stemmed_content if not word in stopwords.words('english')]\n",
        "    stemmed_content = ' '.join(stemmed_content)\n",
        "    return stemmed_content"
      ],
      "metadata": {
        "id": "g0TZIkIkJ8f4"
      },
      "execution_count": 32,
      "outputs": []
    },
    {
      "cell_type": "code",
      "source": [
        "news_dataset['content'] = news_dataset['content'].apply(stemming)"
      ],
      "metadata": {
        "id": "yGhxOJRoMbDn"
      },
      "execution_count": 33,
      "outputs": []
    },
    {
      "cell_type": "code",
      "source": [
        "print(news_dataset['content'])"
      ],
      "metadata": {
        "colab": {
          "base_uri": "https://localhost:8080/"
        },
        "id": "lzhKwYSuMqRW",
        "outputId": "b2ebcb26-5af7-4d1b-fcd1-af735b5ee5df"
      },
      "execution_count": 34,
      "outputs": [
        {
          "output_type": "stream",
          "name": "stdout",
          "text": [
            "0        hous dem aid even see comey letter jason chaff...\n",
            "1        flynn hillari clinton big woman campu breitbar...\n",
            "2                   truth might get fire consortiumnew com\n",
            "3        civilian kill singl us airstrik identifi jessi...\n",
            "4        iranian woman jail fiction unpublish stori wom...\n",
            "                               ...                        \n",
            "19488          artifici intellig robot say trump win admin\n",
            "19489    comment sweden ban christma street light avoid...\n",
            "19490    arrest cannabi possess outnumb arrest violent ...\n",
            "19491    clinton vs trump latest elector predict greg l...\n",
            "19492                             comment link susan susan\n",
            "Name: content, Length: 19493, dtype: object\n"
          ]
        }
      ]
    },
    {
      "cell_type": "code",
      "source": [
        "# seperating the data and label\n",
        "X = news_dataset['content'].values\n",
        "Y = news_dataset['label'].values"
      ],
      "metadata": {
        "id": "eNbxPdEaMqgA"
      },
      "execution_count": 35,
      "outputs": []
    },
    {
      "cell_type": "code",
      "source": [
        "print(X)"
      ],
      "metadata": {
        "colab": {
          "base_uri": "https://localhost:8080/"
        },
        "id": "cW-Hm4f5NZh1",
        "outputId": "d926c8d1-b214-4b0c-8747-6f5c20446c1d"
      },
      "execution_count": 36,
      "outputs": [
        {
          "output_type": "stream",
          "name": "stdout",
          "text": [
            "['hous dem aid even see comey letter jason chaffetz tweet darrel lucu'\n",
            " 'flynn hillari clinton big woman campu breitbart daniel j flynn'\n",
            " 'truth might get fire consortiumnew com' ...\n",
            " 'arrest cannabi possess outnumb arrest violent crime combin mind unleash'\n",
            " 'clinton vs trump latest elector predict greg laden blog scienc technolog beforeitsnew com'\n",
            " 'comment link susan susan']\n"
          ]
        }
      ]
    },
    {
      "cell_type": "code",
      "source": [
        "print(Y)"
      ],
      "metadata": {
        "colab": {
          "base_uri": "https://localhost:8080/"
        },
        "id": "970FyePTNZk1",
        "outputId": "7bfb8d77-a322-415e-861c-485fac707280"
      },
      "execution_count": 37,
      "outputs": [
        {
          "output_type": "stream",
          "name": "stdout",
          "text": [
            "[1.0 0.0 1.0 ... 1.0 1.0 1.0]\n"
          ]
        }
      ]
    },
    {
      "cell_type": "code",
      "source": [
        "Y.shape"
      ],
      "metadata": {
        "colab": {
          "base_uri": "https://localhost:8080/"
        },
        "id": "CCl1jT3JNZoT",
        "outputId": "5b32951c-631b-4130-ba95-79557ddcc7bb"
      },
      "execution_count": 38,
      "outputs": [
        {
          "output_type": "execute_result",
          "data": {
            "text/plain": [
              "(19493,)"
            ]
          },
          "metadata": {},
          "execution_count": 38
        }
      ]
    },
    {
      "cell_type": "code",
      "source": [
        "# converting the textual data to numerical data\n",
        "vectorize = TfidfVectorizer()\n",
        "vectorize.fit(X)\n",
        "X = vectorize.transform(X)"
      ],
      "metadata": {
        "id": "OAN15DjWOQHk"
      },
      "execution_count": 39,
      "outputs": []
    },
    {
      "cell_type": "code",
      "source": [
        "print(X)"
      ],
      "metadata": {
        "colab": {
          "base_uri": "https://localhost:8080/"
        },
        "id": "qudCn5jzO_Qp",
        "outputId": "f809a850-d6f6-4d8a-9c72-393f81f2f81a"
      },
      "execution_count": 40,
      "outputs": [
        {
          "output_type": "stream",
          "name": "stdout",
          "text": [
            "  (0, 15276)\t0.28460034195899114\n",
            "  (0, 13115)\t0.2560043545105149\n",
            "  (0, 8676)\t0.3616574512551678\n",
            "  (0, 8409)\t0.2907523644288201\n",
            "  (0, 7502)\t0.24855543206681954\n",
            "  (0, 6838)\t0.22038310127327032\n",
            "  (0, 4856)\t0.23447967966361913\n",
            "  (0, 3714)\t0.2701594839833595\n",
            "  (0, 3527)\t0.35794655074972637\n",
            "  (0, 2899)\t0.2482829170714848\n",
            "  (0, 2430)\t0.37021574571023125\n",
            "  (0, 264)\t0.2701594839833595\n",
            "  (1, 16348)\t0.3007230235422175\n",
            "  (1, 6654)\t0.19036042306514397\n",
            "  (1, 5379)\t0.7145102238525571\n",
            "  (1, 3496)\t0.26452552344645064\n",
            "  (1, 2754)\t0.19112954057685105\n",
            "  (1, 2173)\t0.383212638656324\n",
            "  (1, 1853)\t0.15504721074894226\n",
            "  (1, 1466)\t0.29224629104498306\n",
            "  (2, 15203)\t0.4162204192789078\n",
            "  (2, 9367)\t0.49075367311518386\n",
            "  (2, 5824)\t0.34633457677021035\n",
            "  (2, 5266)\t0.3859237812954556\n",
            "  (2, 3041)\t0.46473210318610936\n",
            "  :\t:\n",
            "  (19490, 15840)\t0.2812839917695623\n",
            "  (19490, 15498)\t0.30172159081670763\n",
            "  (19490, 11372)\t0.34660898406610874\n",
            "  (19490, 10572)\t0.38524821850028584\n",
            "  (19490, 9414)\t0.2659412393174407\n",
            "  (19490, 3297)\t0.24671729132730671\n",
            "  (19490, 2889)\t0.35186938058068884\n",
            "  (19490, 2196)\t0.30675751689162317\n",
            "  (19490, 779)\t0.4601988919444511\n",
            "  (19491, 15929)\t0.26966002875605777\n",
            "  (19491, 15175)\t0.1084276840919914\n",
            "  (19491, 14676)\t0.30701580518514265\n",
            "  (19491, 13023)\t0.3037093913717184\n",
            "  (19491, 11440)\t0.27952975110558204\n",
            "  (19491, 8254)\t0.2689935593886249\n",
            "  (19491, 8166)\t0.3603002546531109\n",
            "  (19491, 6124)\t0.3603002546531109\n",
            "  (19491, 4525)\t0.28924983556465284\n",
            "  (19491, 2883)\t0.1873702489101467\n",
            "  (19491, 2754)\t0.15147683188447897\n",
            "  (19491, 1607)\t0.30877849510760147\n",
            "  (19491, 1320)\t0.2860758225216913\n",
            "  (19492, 14429)\t0.8330707468333778\n",
            "  (19492, 8510)\t0.4377013562414401\n",
            "  (19492, 2910)\t0.33824643902764495\n"
          ]
        }
      ]
    },
    {
      "cell_type": "markdown",
      "source": [
        "Splitting the dataset to training and test data"
      ],
      "metadata": {
        "id": "QP6ykcU2PbXq"
      }
    },
    {
      "cell_type": "code",
      "source": [
        "from scipy.sparse import csr_matrix\n",
        "# Assuming X is a csr_matrix\n",
        "X_dense = X.toarray()\n",
        "\n",
        "# If Y is a sparse matrix as well\n",
        "if isinstance(Y, csr_matrix):\n",
        "    Y_dense = Y.toarray()\n",
        "else:\n",
        "    Y_dense = Y\n",
        "# Convert to DataFrame to easily handle data types\n",
        "X_df = pd.DataFrame(X_dense)\n",
        "Y_df = pd.Series(Y_dense)\n",
        "\n",
        "# Check and print data types\n",
        "print(X_df.dtypes)\n",
        "print(Y_df.dtypes)\n",
        "\n",
        "# Convert columns to numeric and handle errors\n",
        "X_df = X_df.apply(pd.to_numeric, errors='coerce')\n",
        "Y_df = pd.to_numeric(Y_df, errors='coerce')\n",
        "\n",
        "# Fill or drop NaN values\n",
        "X_df = X_df.fillna(0)  # or another appropriate value or method\n",
        "Y_df = Y_df.fillna(0)  # or another appropriate value or method\n",
        "\n",
        "# Verify data types and check for NaN values\n",
        "print(X_df.dtypes)\n",
        "print(Y_df.dtypes)\n",
        "print(X_df.isnull().sum())\n",
        "print(Y_df.isnull().sum())\n",
        "X_train, X_test, Y_train, Y_test = train_test_split(X_df, Y_df, test_size=0.2, stratify=Y_df, random_state=2)\n"
      ],
      "metadata": {
        "colab": {
          "base_uri": "https://localhost:8080/"
        },
        "id": "9BnPGFNYRsHS",
        "outputId": "7bd1001d-de20-4af9-e7bf-13c3e75a927d"
      },
      "execution_count": 45,
      "outputs": [
        {
          "output_type": "stream",
          "name": "stdout",
          "text": [
            "0        float64\n",
            "1        float64\n",
            "2        float64\n",
            "3        float64\n",
            "4        float64\n",
            "          ...   \n",
            "16660    float64\n",
            "16661    float64\n",
            "16662    float64\n",
            "16663    float64\n",
            "16664    float64\n",
            "Length: 16665, dtype: object\n",
            "object\n",
            "0        float64\n",
            "1        float64\n",
            "2        float64\n",
            "3        float64\n",
            "4        float64\n",
            "          ...   \n",
            "16660    float64\n",
            "16661    float64\n",
            "16662    float64\n",
            "16663    float64\n",
            "16664    float64\n",
            "Length: 16665, dtype: object\n",
            "float64\n",
            "0        0\n",
            "1        0\n",
            "2        0\n",
            "3        0\n",
            "4        0\n",
            "        ..\n",
            "16660    0\n",
            "16661    0\n",
            "16662    0\n",
            "16663    0\n",
            "16664    0\n",
            "Length: 16665, dtype: int64\n",
            "0\n"
          ]
        }
      ]
    },
    {
      "cell_type": "markdown",
      "source": [
        "Training the Model: Logistic Regression"
      ],
      "metadata": {
        "id": "M4TMCEspS-Yo"
      }
    },
    {
      "cell_type": "code",
      "source": [
        "model = LogisticRegression()"
      ],
      "metadata": {
        "id": "plBJKSPXS8xh"
      },
      "execution_count": 46,
      "outputs": []
    },
    {
      "cell_type": "code",
      "source": [
        "model.fit(X_train, Y_train)"
      ],
      "metadata": {
        "colab": {
          "base_uri": "https://localhost:8080/",
          "height": 74
        },
        "id": "2YpzUh99S6SR",
        "outputId": "a74a95ec-8366-4ac7-bbc0-fa5336ef9132"
      },
      "execution_count": 47,
      "outputs": [
        {
          "output_type": "execute_result",
          "data": {
            "text/plain": [
              "LogisticRegression()"
            ],
            "text/html": [
              "<style>#sk-container-id-1 {color: black;background-color: white;}#sk-container-id-1 pre{padding: 0;}#sk-container-id-1 div.sk-toggleable {background-color: white;}#sk-container-id-1 label.sk-toggleable__label {cursor: pointer;display: block;width: 100%;margin-bottom: 0;padding: 0.3em;box-sizing: border-box;text-align: center;}#sk-container-id-1 label.sk-toggleable__label-arrow:before {content: \"▸\";float: left;margin-right: 0.25em;color: #696969;}#sk-container-id-1 label.sk-toggleable__label-arrow:hover:before {color: black;}#sk-container-id-1 div.sk-estimator:hover label.sk-toggleable__label-arrow:before {color: black;}#sk-container-id-1 div.sk-toggleable__content {max-height: 0;max-width: 0;overflow: hidden;text-align: left;background-color: #f0f8ff;}#sk-container-id-1 div.sk-toggleable__content pre {margin: 0.2em;color: black;border-radius: 0.25em;background-color: #f0f8ff;}#sk-container-id-1 input.sk-toggleable__control:checked~div.sk-toggleable__content {max-height: 200px;max-width: 100%;overflow: auto;}#sk-container-id-1 input.sk-toggleable__control:checked~label.sk-toggleable__label-arrow:before {content: \"▾\";}#sk-container-id-1 div.sk-estimator input.sk-toggleable__control:checked~label.sk-toggleable__label {background-color: #d4ebff;}#sk-container-id-1 div.sk-label input.sk-toggleable__control:checked~label.sk-toggleable__label {background-color: #d4ebff;}#sk-container-id-1 input.sk-hidden--visually {border: 0;clip: rect(1px 1px 1px 1px);clip: rect(1px, 1px, 1px, 1px);height: 1px;margin: -1px;overflow: hidden;padding: 0;position: absolute;width: 1px;}#sk-container-id-1 div.sk-estimator {font-family: monospace;background-color: #f0f8ff;border: 1px dotted black;border-radius: 0.25em;box-sizing: border-box;margin-bottom: 0.5em;}#sk-container-id-1 div.sk-estimator:hover {background-color: #d4ebff;}#sk-container-id-1 div.sk-parallel-item::after {content: \"\";width: 100%;border-bottom: 1px solid gray;flex-grow: 1;}#sk-container-id-1 div.sk-label:hover label.sk-toggleable__label {background-color: #d4ebff;}#sk-container-id-1 div.sk-serial::before {content: \"\";position: absolute;border-left: 1px solid gray;box-sizing: border-box;top: 0;bottom: 0;left: 50%;z-index: 0;}#sk-container-id-1 div.sk-serial {display: flex;flex-direction: column;align-items: center;background-color: white;padding-right: 0.2em;padding-left: 0.2em;position: relative;}#sk-container-id-1 div.sk-item {position: relative;z-index: 1;}#sk-container-id-1 div.sk-parallel {display: flex;align-items: stretch;justify-content: center;background-color: white;position: relative;}#sk-container-id-1 div.sk-item::before, #sk-container-id-1 div.sk-parallel-item::before {content: \"\";position: absolute;border-left: 1px solid gray;box-sizing: border-box;top: 0;bottom: 0;left: 50%;z-index: -1;}#sk-container-id-1 div.sk-parallel-item {display: flex;flex-direction: column;z-index: 1;position: relative;background-color: white;}#sk-container-id-1 div.sk-parallel-item:first-child::after {align-self: flex-end;width: 50%;}#sk-container-id-1 div.sk-parallel-item:last-child::after {align-self: flex-start;width: 50%;}#sk-container-id-1 div.sk-parallel-item:only-child::after {width: 0;}#sk-container-id-1 div.sk-dashed-wrapped {border: 1px dashed gray;margin: 0 0.4em 0.5em 0.4em;box-sizing: border-box;padding-bottom: 0.4em;background-color: white;}#sk-container-id-1 div.sk-label label {font-family: monospace;font-weight: bold;display: inline-block;line-height: 1.2em;}#sk-container-id-1 div.sk-label-container {text-align: center;}#sk-container-id-1 div.sk-container {/* jupyter's `normalize.less` sets `[hidden] { display: none; }` but bootstrap.min.css set `[hidden] { display: none !important; }` so we also need the `!important` here to be able to override the default hidden behavior on the sphinx rendered scikit-learn.org. See: https://github.com/scikit-learn/scikit-learn/issues/21755 */display: inline-block !important;position: relative;}#sk-container-id-1 div.sk-text-repr-fallback {display: none;}</style><div id=\"sk-container-id-1\" class=\"sk-top-container\"><div class=\"sk-text-repr-fallback\"><pre>LogisticRegression()</pre><b>In a Jupyter environment, please rerun this cell to show the HTML representation or trust the notebook. <br />On GitHub, the HTML representation is unable to render, please try loading this page with nbviewer.org.</b></div><div class=\"sk-container\" hidden><div class=\"sk-item\"><div class=\"sk-estimator sk-toggleable\"><input class=\"sk-toggleable__control sk-hidden--visually\" id=\"sk-estimator-id-1\" type=\"checkbox\" checked><label for=\"sk-estimator-id-1\" class=\"sk-toggleable__label sk-toggleable__label-arrow\">LogisticRegression</label><div class=\"sk-toggleable__content\"><pre>LogisticRegression()</pre></div></div></div></div></div>"
            ]
          },
          "metadata": {},
          "execution_count": 47
        }
      ]
    },
    {
      "cell_type": "markdown",
      "source": [
        "Evaluation:\n",
        "\n",
        "*   Accuracy Score\n",
        "\n",
        "\n",
        "\n",
        "   "
      ],
      "metadata": {
        "id": "T5YaXGsnThgR"
      }
    },
    {
      "cell_type": "code",
      "source": [
        "# accuracy score on the training data\n",
        "X_train_prediction = model.predict(X_train)\n",
        "training_data_accuracy = accuracy_score(X_train_prediction, Y_train)"
      ],
      "metadata": {
        "id": "5WAE1fmETggD"
      },
      "execution_count": 48,
      "outputs": []
    },
    {
      "cell_type": "code",
      "source": [
        "print('Accuracy score of the training data : ', training_data_accuracy)"
      ],
      "metadata": {
        "colab": {
          "base_uri": "https://localhost:8080/"
        },
        "id": "rCtayLKDTgjh",
        "outputId": "6defc95a-581e-4d05-c287-1e3fd3b59919"
      },
      "execution_count": 49,
      "outputs": [
        {
          "output_type": "stream",
          "name": "stdout",
          "text": [
            "Accuracy score of the training data :  0.9856355008336539\n"
          ]
        }
      ]
    },
    {
      "cell_type": "code",
      "source": [
        "# accuracy score on the test data\n",
        "X_test_prediction = model.predict(X_test)\n",
        "test_data_accuracy = accuracy_score(X_test_prediction, Y_test)"
      ],
      "metadata": {
        "id": "4O7lGj0yT9AA"
      },
      "execution_count": 50,
      "outputs": []
    },
    {
      "cell_type": "code",
      "source": [
        "print('Accuracy score of the test data : ', test_data_accuracy)"
      ],
      "metadata": {
        "colab": {
          "base_uri": "https://localhost:8080/"
        },
        "id": "wihBLOa1UHLZ",
        "outputId": "400818d9-e12d-458e-e56b-f9cadf182f00"
      },
      "execution_count": 51,
      "outputs": [
        {
          "output_type": "stream",
          "name": "stdout",
          "text": [
            "Accuracy score of the test data :  0.9756347781482432\n"
          ]
        }
      ]
    },
    {
      "cell_type": "markdown",
      "source": [
        "Making a Predictive System"
      ],
      "metadata": {
        "id": "7y4G9SR3UVoE"
      }
    },
    {
      "cell_type": "code",
      "source": [
        "X_new = X_test.iloc[3].values.reshape(1, -1)\n",
        "\n",
        "prediction = model.predict(X_new)\n",
        "print(prediction)\n",
        "\n",
        "if prediction[0] == 0:\n",
        "    print('The news is Real')\n",
        "else:\n",
        "    print('The news is Fake')"
      ],
      "metadata": {
        "colab": {
          "base_uri": "https://localhost:8080/"
        },
        "id": "thI3JiUyUUnY",
        "outputId": "e5aa5581-47fa-49a6-921d-5a997887e006"
      },
      "execution_count": 56,
      "outputs": [
        {
          "output_type": "stream",
          "name": "stdout",
          "text": [
            "[0.]\n",
            "The news is Real\n"
          ]
        }
      ]
    },
    {
      "cell_type": "code",
      "source": [
        "print(Y_test.iloc[3])"
      ],
      "metadata": {
        "colab": {
          "base_uri": "https://localhost:8080/"
        },
        "id": "lnMfE0zGUUr3",
        "outputId": "10457f08-f3e9-4c5f-eb61-374221b9e43a"
      },
      "execution_count": 58,
      "outputs": [
        {
          "output_type": "stream",
          "name": "stdout",
          "text": [
            "0.0\n"
          ]
        }
      ]
    },
    {
      "cell_type": "code",
      "source": [],
      "metadata": {
        "id": "eG4AgBZ2UUvP"
      },
      "execution_count": null,
      "outputs": []
    }
  ]
}